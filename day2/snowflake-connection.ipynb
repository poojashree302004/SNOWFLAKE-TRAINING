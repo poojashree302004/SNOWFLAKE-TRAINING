{
 "cells": [
  {
   "cell_type": "code",
   "execution_count": 0,
   "metadata": {
    "application/vnd.databricks.v1+cell": {
     "cellMetadata": {
      "byteLimit": 2048000,
      "rowLimit": 10000
     },
     "inputWidgets": {},
     "nuid": "a97fb7ba-014f-4eb7-ad56-3b78d3e05537",
     "showTitle": false,
     "tableResultSettingsMap": {},
     "title": ""
    }
   },
   "outputs": [
    {
     "output_type": "display_data",
     "data": {
      "text/html": [
       "<style scoped>\n",
       "  .table-result-container {\n",
       "    max-height: 300px;\n",
       "    overflow: auto;\n",
       "  }\n",
       "  table, th, td {\n",
       "    border: 1px solid black;\n",
       "    border-collapse: collapse;\n",
       "  }\n",
       "  th, td {\n",
       "    padding: 5px;\n",
       "  }\n",
       "  th {\n",
       "    text-align: left;\n",
       "  }\n",
       "</style><div class='table-result-container'><table class='table-result'><thead style='background-color: white'><tr><th>ID</th><th>CUSTOEMR_NAME</th><th>REGION</th><th>AMOUNT</th><th>SALE_DATE</th></tr></thead><tbody><tr><td>1</td><td>Jhon</td><td>West</td><td>5000.00</td><td>2025-10-02</td></tr><tr><td>2</td><td>Tina</td><td>East</td><td>6000.00</td><td>2025-10-03</td></tr><tr><td>3</td><td>Riya</td><td>North</td><td>7000.00</td><td>2025-10-10</td></tr><tr><td>4</td><td>Pam</td><td>South</td><td>8000.00</td><td>2025-10-08</td></tr><tr><td>5</td><td>Anu</td><td>West</td><td>9000.00</td><td>2025-10-05</td></tr><tr><td>5</td><td>Preeti</td><td>North</td><td>9000.00</td><td>2025-10-15</td></tr></tbody></table></div>"
      ]
     },
     "metadata": {
      "application/vnd.databricks.v1+output": {
       "addedWidgets": {},
       "aggData": [],
       "aggError": "",
       "aggOverflow": false,
       "aggSchema": [],
       "aggSeriesLimitReached": false,
       "aggType": "",
       "arguments": {},
       "columnCustomDisplayInfos": {},
       "data": [
        [
         "1",
         "Jhon",
         "West",
         "5000.00",
         "2025-10-02"
        ],
        [
         "2",
         "Tina",
         "East",
         "6000.00",
         "2025-10-03"
        ],
        [
         "3",
         "Riya",
         "North",
         "7000.00",
         "2025-10-10"
        ],
        [
         "4",
         "Pam",
         "South",
         "8000.00",
         "2025-10-08"
        ],
        [
         "5",
         "Anu",
         "West",
         "9000.00",
         "2025-10-05"
        ],
        [
         "5",
         "Preeti",
         "North",
         "9000.00",
         "2025-10-15"
        ]
       ],
       "datasetInfos": [],
       "dbfsResultPath": null,
       "isJsonSchema": true,
       "metadata": {},
       "overflow": false,
       "plotOptions": {
        "customPlotOptions": {},
        "displayType": "table",
        "pivotAggregation": null,
        "pivotColumns": null,
        "xColumns": null,
        "yColumns": null
       },
       "removedWidgets": [],
       "schema": [
        {
         "metadata": "{}",
         "name": "ID",
         "type": "\"decimal(38,0)\""
        },
        {
         "metadata": "{}",
         "name": "CUSTOEMR_NAME",
         "type": "\"string\""
        },
        {
         "metadata": "{}",
         "name": "REGION",
         "type": "\"string\""
        },
        {
         "metadata": "{}",
         "name": "AMOUNT",
         "type": "\"decimal(10,2)\""
        },
        {
         "metadata": "{}",
         "name": "SALE_DATE",
         "type": "\"date\""
        }
       ],
       "type": "table"
      }
     },
     "output_type": "display_data"
    }
   ],
   "source": [
    "sfOptions={\n",
    "    \"sfUrl\": \"https://sqishot-fa68768.snowflakecomputing.com\",\n",
    "    \"sfUser\": \"poojashree\",\n",
    "    \"sfPassword\":\"Poojashree@307\",\n",
    "    \"sfDatabase\": \"MY_PRACTICE_DB\",\n",
    "    \"sfSchema\": \"PUBLIC\",\n",
    "    \"sfWarehouse\": \"COMPUTE_WH\",\n",
    "    \"sfRole\":\"ACCOUNTADMIN\"\n",
    "}\n",
    "\n",
    "\n",
    "df= (spark.read.format(\"snowflake\").options(**sfOptions).option(\"dbtable\",\"SALES\")\n",
    "                .load())\n",
    "     \n",
    "display(df)"
   ]
  },
  {
   "cell_type": "code",
   "execution_count": 0,
   "metadata": {
    "application/vnd.databricks.v1+cell": {
     "cellMetadata": {
      "byteLimit": 2048000,
      "rowLimit": 10000
     },
     "inputWidgets": {},
     "nuid": "18b6e870-1cc5-43b2-8de3-fd97a24e2bb6",
     "showTitle": false,
     "tableResultSettingsMap": {},
     "title": ""
    }
   },
   "outputs": [
    {
     "output_type": "stream",
     "name": "stdout",
     "output_type": "stream",
     "text": [
      "Collecting snowflake-connector-python\n  Downloading snowflake_connector_python-4.0.0-cp312-cp312-manylinux_2_17_aarch64.manylinux2014_aarch64.whl.metadata (77 kB)\nCollecting asn1crypto<2.0.0,>0.24.0 (from snowflake-connector-python)\n  Downloading asn1crypto-1.5.1-py2.py3-none-any.whl.metadata (13 kB)\nRequirement already satisfied: cryptography>=3.1.0 in /databricks/python3/lib/python3.12/site-packages (from snowflake-connector-python) (43.0.3)\nCollecting pyOpenSSL<26.0.0,>=22.0.0 (from snowflake-connector-python)\n  Downloading pyopenssl-25.3.0-py3-none-any.whl.metadata (17 kB)\nRequirement already satisfied: pyjwt<3.0.0 in /databricks/python3/lib/python3.12/site-packages (from snowflake-connector-python) (2.10.1)\nRequirement already satisfied: pytz in /databricks/python3/lib/python3.12/site-packages (from snowflake-connector-python) (2024.1)\nRequirement already satisfied: requests<3.0.0 in /databricks/python3/lib/python3.12/site-packages (from snowflake-connector-python) (2.32.3)\nRequirement already satisfied: packaging in /databricks/python3/lib/python3.12/site-packages (from snowflake-connector-python) (24.1)\nRequirement already satisfied: charset_normalizer<4,>=2 in /databricks/python3/lib/python3.12/site-packages (from snowflake-connector-python) (3.3.2)\nRequirement already satisfied: idna<4,>=2.5 in /databricks/python3/lib/python3.12/site-packages (from snowflake-connector-python) (3.7)\nRequirement already satisfied: certifi>=2017.4.17 in /databricks/python3/lib/python3.12/site-packages (from snowflake-connector-python) (2025.1.31)\nRequirement already satisfied: typing_extensions<5,>=4.3 in /databricks/python3/lib/python3.12/site-packages (from snowflake-connector-python) (4.12.2)\nRequirement already satisfied: filelock<4,>=3.5 in /usr/local/lib/python3.12/dist-packages (from snowflake-connector-python) (3.18.0)\nRequirement already satisfied: sortedcontainers>=2.4.0 in /databricks/python3/lib/python3.12/site-packages (from snowflake-connector-python) (2.4.0)\nRequirement already satisfied: platformdirs<5.0.0,>=2.6.0 in /databricks/python3/lib/python3.12/site-packages (from snowflake-connector-python) (3.10.0)\nCollecting tomlkit (from snowflake-connector-python)\n  Downloading tomlkit-0.13.3-py3-none-any.whl.metadata (2.8 kB)\nRequirement already satisfied: boto3>=1.24 in /databricks/python3/lib/python3.12/site-packages (from snowflake-connector-python) (1.36.2)\nRequirement already satisfied: botocore>=1.24 in /databricks/python3/lib/python3.12/site-packages (from snowflake-connector-python) (1.36.3)\nRequirement already satisfied: jmespath<2.0.0,>=0.7.1 in /databricks/python3/lib/python3.12/site-packages (from boto3>=1.24->snowflake-connector-python) (1.0.1)\nRequirement already satisfied: s3transfer<0.12.0,>=0.11.0 in /databricks/python3/lib/python3.12/site-packages (from boto3>=1.24->snowflake-connector-python) (0.11.3)\nRequirement already satisfied: python-dateutil<3.0.0,>=2.1 in /databricks/python3/lib/python3.12/site-packages (from botocore>=1.24->snowflake-connector-python) (2.9.0.post0)\nRequirement already satisfied: urllib3!=2.2.0,<3,>=1.25.4 in /databricks/python3/lib/python3.12/site-packages (from botocore>=1.24->snowflake-connector-python) (2.3.0)\nRequirement already satisfied: cffi>=1.12 in /databricks/python3/lib/python3.12/site-packages (from cryptography>=3.1.0->snowflake-connector-python) (1.17.1)\nCollecting cryptography>=3.1.0 (from snowflake-connector-python)\n  Downloading cryptography-46.0.2-cp311-abi3-manylinux_2_34_aarch64.whl.metadata (5.7 kB)\nCollecting cffi>=2.0.0 (from cryptography>=3.1.0->snowflake-connector-python)\n  Downloading cffi-2.0.0-cp312-cp312-manylinux2014_aarch64.manylinux_2_17_aarch64.whl.metadata (2.6 kB)\nRequirement already satisfied: pycparser in /databricks/python3/lib/python3.12/site-packages (from cffi>=2.0.0->cryptography>=3.1.0->snowflake-connector-python) (2.21)\nRequirement already satisfied: six>=1.5 in /usr/lib/python3/dist-packages (from python-dateutil<3.0.0,>=2.1->botocore>=1.24->snowflake-connector-python) (1.16.0)\nDownloading snowflake_connector_python-4.0.0-cp312-cp312-manylinux_2_17_aarch64.manylinux2014_aarch64.whl (2.7 MB)\n\u001B[?25l   \u001B[90m━━━━━━━━━━━━━━━━━━━━━━━━━━━━━━━━━━━━━━━━\u001B[0m \u001B[32m0.0/2.7 MB\u001B[0m \u001B[31m?\u001B[0m eta \u001B[36m-:--:--\u001B[0m\r\u001B[2K   \u001B[90m━━━━━━━━━━━━━━━━━━━━━━━━━━━━━━━━━━━━━━━━\u001B[0m \u001B[32m2.7/2.7 MB\u001B[0m \u001B[31m15.0 MB/s\u001B[0m eta \u001B[36m0:00:00\u001B[0m\n\u001B[?25hDownloading asn1crypto-1.5.1-py2.py3-none-any.whl (105 kB)\nDownloading pyopenssl-25.3.0-py3-none-any.whl (57 kB)\nDownloading cryptography-46.0.2-cp311-abi3-manylinux_2_34_aarch64.whl (4.3 MB)\n\u001B[?25l   \u001B[90m━━━━━━━━━━━━━━━━━━━━━━━━━━━━━━━━━━━━━━━━\u001B[0m \u001B[32m0.0/4.3 MB\u001B[0m \u001B[31m?\u001B[0m eta \u001B[36m-:--:--\u001B[0m\r\u001B[2K   \u001B[90m━━━━━━━━━━━━━━━━━━━━━━━━━━━━━━━━━━━━━━━━\u001B[0m \u001B[32m4.3/4.3 MB\u001B[0m \u001B[31m30.3 MB/s\u001B[0m eta \u001B[36m0:00:00\u001B[0m\n\u001B[?25hDownloading tomlkit-0.13.3-py3-none-any.whl (38 kB)\nDownloading cffi-2.0.0-cp312-cp312-manylinux2014_aarch64.manylinux_2_17_aarch64.whl (220 kB)\nInstalling collected packages: asn1crypto, tomlkit, cffi, cryptography, pyOpenSSL, snowflake-connector-python\n  Attempting uninstall: cffi\n    Found existing installation: cffi 1.17.1\n    Not uninstalling cffi at /databricks/python3/lib/python3.12/site-packages, outside environment /local_disk0/.ephemeral_nfs/envs/pythonEnv-3e9dc8da-7e99-44c7-8064-5888d831e78e\n    Can't uninstall 'cffi'. No files were found to uninstall.\n  Attempting uninstall: cryptography\n    Found existing installation: cryptography 43.0.3\n    Not uninstalling cryptography at /databricks/python3/lib/python3.12/site-packages, outside environment /local_disk0/.ephemeral_nfs/envs/pythonEnv-3e9dc8da-7e99-44c7-8064-5888d831e78e\n    Can't uninstall 'cryptography'. No files were found to uninstall.\nSuccessfully installed asn1crypto-1.5.1 cffi-2.0.0 cryptography-46.0.2 pyOpenSSL-25.3.0 snowflake-connector-python-4.0.0 tomlkit-0.13.3\n\u001B[43mNote: you may need to restart the kernel using %restart_python or dbutils.library.restartPython() to use updated packages.\u001B[0m\n"
     ]
    }
   ],
   "source": [
    "%pip install snowflake-connector-python"
   ]
  },
  {
   "cell_type": "code",
   "execution_count": 0,
   "metadata": {
    "application/vnd.databricks.v1+cell": {
     "cellMetadata": {
      "byteLimit": 2048000,
      "rowLimit": 10000
     },
     "inputWidgets": {},
     "nuid": "ace51a5b-e556-42dd-b25d-0d2730022aaa",
     "showTitle": false,
     "tableResultSettingsMap": {},
     "title": ""
    }
   },
   "outputs": [],
   "source": [
    "%restart_python"
   ]
  },
  {
   "cell_type": "code",
   "execution_count": 0,
   "metadata": {
    "application/vnd.databricks.v1+cell": {
     "cellMetadata": {
      "byteLimit": 2048000,
      "rowLimit": 10000
     },
     "inputWidgets": {},
     "nuid": "ad7d7e62-b9ad-4c24-a733-0ac2f8d47c77",
     "showTitle": false,
     "tableResultSettingsMap": {},
     "title": ""
    }
   },
   "outputs": [],
   "source": [
    "\n",
    "import  pandas as pd\n",
    "import snowflake.connector\n",
    "from snowflake.connector.pandas_tools import write_pandas\n",
    "\n",
    "data=[('Gem','India',90997),('Ruby','canada',8765)]\n",
    "df=pd.DataFrame(data,columns=['Name','Country','Sales'])\n",
    "\n",
    "conn=snowflake.connector.connect(\n",
    "    user='poojashree',\n",
    "    password='Poojashree@307',\n",
    "    account='sqishot-fa68768',\n",
    "    warehouse='COMPUTE_WH',\n",
    "    database='MY_PRACTICE_DB',\n",
    "    schema='PUBLIC'\n",
    ")\n",
    "\n",
    "write_pandas(conn, df, 'SALES_NEW', auto_create_table=True)\n",
    "\n",
    "\n",
    "conn.close()\n",
    "     "
   ]
  }
 ],
 "metadata": {
  "application/vnd.databricks.v1+notebook": {
   "computePreferences": null,
   "dashboards": [],
   "environmentMetadata": {
    "base_environment": "",
    "environment_version": "4"
   },
   "inputWidgetPreferences": null,
   "language": "python",
   "notebookMetadata": {
    "pythonIndentUnit": 4
   },
   "notebookName": "snowflake-connection",
   "widgets": {}
  },
  "language_info": {
   "name": "python"
  }
 },
 "nbformat": 4,
 "nbformat_minor": 0
}