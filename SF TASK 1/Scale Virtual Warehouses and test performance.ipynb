{
 "cells": [
  {
   "cell_type": "code",
   "execution_count": 0,
   "metadata": {
    "application/vnd.databricks.v1+cell": {
     "cellMetadata": {
      "byteLimit": 2048000,
      "rowLimit": 10000
     },
     "inputWidgets": {},
     "nuid": "ef26c246-edb2-4b3d-8923-aa8175a8618d",
     "showTitle": false,
     "tableResultSettingsMap": {},
     "title": ""
    }
   },
   "outputs": [
    {
     "output_type": "stream",
     "name": "stdout",
     "output_type": "stream",
     "text": [
      "Execution Time: 0.88 seconds, Warehouse: WH_LARGE\n"
     ]
    }
   ],
   "source": [
    "from snowflake.snowpark import Session\n",
    "from snowflake.snowpark.functions import col, avg\n",
    "import time\n",
    "\n",
    "sfOptions = {\n",
    "    \"account\": \"sqishot-fa68768\",\n",
    "    \"user\": \"poojashree\",\n",
    "    \"password\": \"Poojashree@307\",\n",
    "    \"warehouse\": \"WH_LARGE\",   # Start with SMALL,then medium and large\n",
    "    \"database\": \"LOG_ANALYTICS\",\n",
    "    \"schema\": \"PUBLIC\"\n",
    "}\n",
    "# sfOptions[\"warehouse\"] = \"WH_MEDIUM\"\n",
    "# sfOptions[\"warehouse\"] = \"WH_LARGE\"\n",
    "\n",
    "session = Session.builder.configs(sfOptions).create()\n",
    "\n",
    "df = session.table(\"LARGE_ORDERS\")\n",
    "\n",
    "start = time.time()\n",
    "result = df.group_by(col(\"CUSTOMER_ID\")).agg(avg(col(\"AMOUNT\")).alias(\"AVG_AMOUNT\")).collect()\n",
    "end = time.time()\n",
    "\n",
    "print(f\"Execution Time: {end - start:.2f} seconds, Warehouse: WH_LARGE\")\n"
   ]
  },
  {
   "cell_type": "code",
   "execution_count": 0,
   "metadata": {
    "application/vnd.databricks.v1+cell": {
     "cellMetadata": {
      "byteLimit": 2048000,
      "rowLimit": 10000
     },
     "inputWidgets": {},
     "nuid": "7b502e15-639d-4d1e-9d45-86a0819d9455",
     "showTitle": false,
     "tableResultSettingsMap": {},
     "title": ""
    }
   },
   "outputs": [
    {
     "output_type": "stream",
     "name": "stdout",
     "output_type": "stream",
     "text": [
      "-----------------------------------------------------------------------\n|\"ORDER_ID\"  |\"AMOUNT\"                 |\"ORDER_DATE\"  |\"CUSTOMER_ID\"  |\n-----------------------------------------------------------------------\n|3781        |1575079079389540595000   |2022-09-27    |3646           |\n|13309       |4865250119061373673000   |2022-09-27    |916            |\n|4139        |-5623446827197965673000  |2022-09-27    |1706           |\n|14595       |-8142835946772943762000  |2022-09-27    |1024           |\n|13529       |8442326535959500381000   |2022-09-27    |2653           |\n|12389       |9065793535537372813000   |2022-09-27    |1205           |\n|7519        |2271119868309173897000   |2022-09-27    |3801           |\n|17453       |7780942455395988192000   |2022-09-27    |4255           |\n|13635       |-1906493210800863373000  |2022-09-27    |178            |\n|1397        |1721957751849191077000   |2022-09-27    |472            |\n-----------------------------------------------------------------------\n\n"
     ]
    }
   ],
   "source": [
    "df.filter(col(\"AMOUNT\") > 500).count()\n",
    "df.sort(col(\"ORDER_DATE\").desc()).limit(10).show()\n"
   ]
  },
  {
   "cell_type": "code",
   "execution_count": 0,
   "metadata": {
    "application/vnd.databricks.v1+cell": {
     "cellMetadata": {
      "byteLimit": 2048000,
      "rowLimit": 10000
     },
     "inputWidgets": {},
     "nuid": "a4704301-98ed-49cb-8e9c-7ec88a33f690",
     "showTitle": false,
     "tableResultSettingsMap": {},
     "title": ""
    }
   },
   "outputs": [],
   "source": [
    "%pip install snowflake-snowpark-python"
   ]
  },
  {
   "cell_type": "code",
   "execution_count": 0,
   "metadata": {
    "application/vnd.databricks.v1+cell": {
     "cellMetadata": {
      "byteLimit": 2048000,
      "rowLimit": 10000
     },
     "inputWidgets": {},
     "nuid": "dbf4f531-f0b7-42b1-87cb-ac16e2990218",
     "showTitle": false,
     "tableResultSettingsMap": {},
     "title": ""
    }
   },
   "outputs": [],
   "source": [
    "%restart_python"
   ]
  }
 ],
 "metadata": {
  "application/vnd.databricks.v1+notebook": {
   "computePreferences": null,
   "dashboards": [],
   "environmentMetadata": {
    "base_environment": "",
    "environment_version": "4"
   },
   "inputWidgetPreferences": null,
   "language": "python",
   "notebookMetadata": {
    "pythonIndentUnit": 4
   },
   "notebookName": "Scale Virtual Warehouses and test performance",
   "widgets": {}
  },
  "language_info": {
   "name": "python"
  }
 },
 "nbformat": 4,
 "nbformat_minor": 0
}