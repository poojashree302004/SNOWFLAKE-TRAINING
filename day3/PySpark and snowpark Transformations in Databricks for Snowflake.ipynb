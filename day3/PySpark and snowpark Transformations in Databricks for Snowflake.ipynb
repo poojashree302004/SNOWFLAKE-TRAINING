{
 "cells": [
  {
   "cell_type": "code",
   "execution_count": 0,
   "metadata": {
    "application/vnd.databricks.v1+cell": {
     "cellMetadata": {
      "byteLimit": 2048000,
      "rowLimit": 10000
     },
     "inputWidgets": {},
     "nuid": "0aa33591-08e1-44e3-99d1-d3f932c2ca92",
     "showTitle": false,
     "tableResultSettingsMap": {},
     "title": ""
    }
   },
   "outputs": [
    {
     "name": "stdout",
     "output_type": "stream",
     "text": [
      "+---+--------+---------+------+\n",
      "| ID|CUSTOMER|   REGION|AMOUNT|\n",
      "+---+--------+---------+------+\n",
      "|  1|   Pooja|SRI LANKA|  1000|\n",
      "|  2|Sivasree|    INDIA|  9999|\n",
      "|  3|  Sakthi|       UK|  8888|\n",
      "|  4|     Abi|      USA|  7777|\n",
      "|  5|   Priya|       US|  6666|\n",
      "+---+--------+---------+------+\n",
      "\n"
     ]
    }
   ],
   "source": [
    "storage_account_name = \"sfhexastorage\"\n",
    "container_name = \"bronze\"\n",
    "account_key = \"jBmM0OVBS0I8tvj1LLFb0qzJVIFk9+Qd/hNW0ZvNe6TiSbatHvHC6NoeSYm3nfbmy1hocQuVbnhw+AStRqeGIA==\"\n",
    "\n",
    "# Configure Spark\n",
    "spark.conf.set(\n",
    "    f\"fs.azure.account.key.{storage_account_name}.dfs.core.windows.net\",\n",
    "    account_key\n",
    ")\n",
    "\n",
    "file_path = f\"abfss://{container_name}@{storage_account_name}.dfs.core.windows.net/Customer.csv\"\n",
    "\n",
    "df = spark.read.csv(file_path, header=True, inferSchema=True)\n",
    "df.show(5)\n"
   ]
  },
  {
   "cell_type": "code",
   "execution_count": 0,
   "metadata": {
    "application/vnd.databricks.v1+cell": {
     "cellMetadata": {
      "byteLimit": 2048000,
      "rowLimit": 10000
     },
     "inputWidgets": {},
     "nuid": "6c02bbdf-2aeb-4401-8fd3-e88b8b04fd41",
     "showTitle": false,
     "tableResultSettingsMap": {},
     "title": ""
    }
   },
   "outputs": [
    {
     "name": "stdout",
     "output_type": "stream",
     "text": [
      "+---+--------+---------+------+\n",
      "| ID|CUSTOMER|   REGION|AMOUNT|\n",
      "+---+--------+---------+------+\n",
      "|  1|   Pooja|SRI LANKA|  1000|\n",
      "|  2|Sivasree|    INDIA|  9999|\n",
      "|  3|  Sakthi|       UK|  8888|\n",
      "|  4|     Abi|      USA|  7777|\n",
      "|  5|   Priya|       US|  6666|\n",
      "|  1|   Pooja|SRI LANKA|  1000|\n",
      "|  2|Sivasree|    INDIA|  9999|\n",
      "|  3|  Sakthi|       UK|  8888|\n",
      "|  4|     Abi|      USA|  7777|\n",
      "|  5|   Priya|       US|  6666|\n",
      "+---+--------+---------+------+\n",
      "\n"
     ]
    }
   ],
   "source": [
    "options = {\n",
    "    \"sfURL\": \"sqishot-fa68768.snowflakecomputing.com\",\n",
    "    \"sfDatabase\": \"PRACTICE\",\n",
    "    \"sfSchema\": \"PUBLIC\",\n",
    "    \"sfWarehouse\": \"COMPUTE_WH\",\n",
    "    \"sfRole\": \"ACCOUNTADMIN\",\n",
    "    \"sfUser\": \"poojashree\",\n",
    "    \"sfPassword\": \"Poojashree@307\"\n",
    "}\n",
    "df = spark.read.format(\"snowflake\").options(**options).option(\"dbtable\", \"Customer\").load()\n",
    "df.show()"
   ]
  },
  {
   "cell_type": "code",
   "execution_count": 0,
   "metadata": {
    "application/vnd.databricks.v1+cell": {
     "cellMetadata": {
      "byteLimit": 2048000,
      "rowLimit": 10000
     },
     "inputWidgets": {},
     "nuid": "817af33f-5949-4ad4-83c4-282ab1358c15",
     "showTitle": false,
     "tableResultSettingsMap": {},
     "title": ""
    }
   },
   "outputs": [
    {
     "name": "stdout",
     "output_type": "stream",
     "text": [
      "+---------+-----------+\n",
      "|   Region|total_sales|\n",
      "+---------+-----------+\n",
      "|SRI LANKA|       1000|\n",
      "|       US|       6666|\n",
      "|      USA|       7777|\n",
      "|       UK|       8888|\n",
      "|    INDIA|       9999|\n",
      "+---------+-----------+\n",
      "\n"
     ]
    }
   ],
   "source": [
    "transformed_df = df.groupBy(\"Region\").agg({\"amount\": \"sum\"}).withColumnRenamed(\"sum(amount)\", \"total_sales\")\n",
    "\n",
    "transformed_df.show(5)"
   ]
  },
  {
   "cell_type": "code",
   "execution_count": 0,
   "metadata": {
    "application/vnd.databricks.v1+cell": {
     "cellMetadata": {
      "byteLimit": 2048000,
      "rowLimit": 10000
     },
     "inputWidgets": {},
     "nuid": "2414d0ec-9a7e-44d1-b3e0-4e1d6a2540dc",
     "showTitle": false,
     "tableResultSettingsMap": {},
     "title": ""
    }
   },
   "outputs": [
    {
     "name": "stdout",
     "output_type": "stream",
     "text": [
      "successfull\n"
     ]
    }
   ],
   "source": [
    "# Write to Snowflake\n",
    "(transformed_df.write\n",
    "  .format(\"snowflake\")\n",
    "  .options(**options)\n",
    "  .option(\"dbtable\", \"Customer\")\n",
    "  .mode(\"overwrite\")\n",
    "  .save())\n",
    "  \n",
    "print(\"successfull\")"
   ]
  },
  {
   "cell_type": "code",
   "execution_count": 0,
   "metadata": {
    "application/vnd.databricks.v1+cell": {
     "cellMetadata": {
      "byteLimit": 2048000,
      "rowLimit": 10000
     },
     "inputWidgets": {},
     "nuid": "601914c0-050b-47b6-978f-ed96ec301fb3",
     "showTitle": false,
     "tableResultSettingsMap": {},
     "title": ""
    }
   },
   "outputs": [],
   "source": [
    "%pip install snowflake-snowpark-python"
   ]
  },
  {
   "cell_type": "code",
   "execution_count": 0,
   "metadata": {
    "application/vnd.databricks.v1+cell": {
     "cellMetadata": {
      "byteLimit": 2048000,
      "rowLimit": 10000
     },
     "inputWidgets": {},
     "nuid": "0f476744-5e20-47a6-9de2-85a2bad7df7c",
     "showTitle": false,
     "tableResultSettingsMap": {},
     "title": ""
    }
   },
   "outputs": [],
   "source": [
    "%restart_python"
   ]
  },
  {
   "cell_type": "code",
   "execution_count": 0,
   "metadata": {
    "application/vnd.databricks.v1+cell": {
     "cellMetadata": {
      "byteLimit": 2048000,
      "rowLimit": 10000
     },
     "inputWidgets": {},
     "nuid": "14e93e2e-4c0b-4f5b-90c6-3365bc52fb3a",
     "showTitle": false,
     "tableResultSettingsMap": {},
     "title": ""
    }
   },
   "outputs": [
    {
     "name": "stdout",
     "output_type": "stream",
     "text": [
      "---------------------------\n",
      "|\"REGION\"   |\"AVG_SALES\"  |\n",
      "---------------------------\n",
      "|UK         |8888.000000  |\n",
      "|US         |6666.000000  |\n",
      "|SRI LANKA  |1000.000000  |\n",
      "|USA        |7777.000000  |\n",
      "|INDIA      |9999.000000  |\n",
      "---------------------------\n",
      "\n"
     ]
    }
   ],
   "source": [
    "from snowflake.snowpark import Session\n",
    "from snowflake.snowpark.functions import col, avg\n",
    "\n",
    "# Connection\n",
    "connection_parameters = {\n",
    "  \"account\": \"sqishot-fa68768\",\n",
    "  \"user\":\"poojashree\",\n",
    "  \"password\": \"Poojashree@307\",\n",
    "  \"warehouse\": \"COMPUTE_WH\",\n",
    "  \"database\": \"PRACTICE\",\n",
    "  \"schema\": \"PUBLIC\"\n",
    "}\n",
    "session = Session.builder.configs(connection_parameters).create()\n",
    "\n",
    "# Load Snowflake table\n",
    "sales_df = session.table(\"Customer\")\n",
    "\n",
    "# Transformation inside Snowflake\n",
    "region_sales = (sales_df\n",
    "    .group_by(col(\"REGION\"))\n",
    "    .agg(avg(col(\"AMOUNT\")).alias(\"AVG_SALES\"))\n",
    ")\n",
    "\n",
    "region_sales.show()"
   ]
  },
  {
   "cell_type": "code",
   "execution_count": 0,
   "metadata": {
    "application/vnd.databricks.v1+cell": {
     "cellMetadata": {
      "byteLimit": 2048000,
      "rowLimit": 10000
     },
     "inputWidgets": {},
     "nuid": "b61b3277-ee62-4e1b-af52-25e5c5cc2901",
     "showTitle": false,
     "tableResultSettingsMap": {},
     "title": ""
    }
   },
   "outputs": [
    {
     "name": "stdout",
     "output_type": "stream",
     "text": [
      "--------------------------------------------\n",
      "|\"ID\"  |\"CUSTOMER\"  |\"REGION\"   |\"AMOUNT\"  |\n",
      "--------------------------------------------\n",
      "|1     |Pooja       |SRI LANKA  |1000      |\n",
      "|2     |Sivasree    |INDIA      |9999      |\n",
      "|3     |Sakthi      |UK         |8888      |\n",
      "|4     |Abi         |USA        |7777      |\n",
      "|5     |Priya       |US         |6666      |\n",
      "--------------------------------------------\n",
      "\n",
      "root\n",
      " |-- \"ID\": StringType(16777216) (nullable = True)\n",
      " |-- \"CUSTOMER\": StringType(16777216) (nullable = True)\n",
      " |-- \"REGION\": StringType(16777216) (nullable = True)\n",
      " |-- \"AMOUNT\": LongType() (nullable = True)\n",
      "---------------------------\n",
      "|\"REGION\"   |\"AVG_SALES\"  |\n",
      "---------------------------\n",
      "|UK         |8888.000000  |\n",
      "|US         |6666.000000  |\n",
      "|SRI LANKA  |1000.000000  |\n",
      "|USA        |7777.000000  |\n",
      "|INDIA      |9999.000000  |\n",
      "---------------------------\n",
      "\n"
     ]
    }
   ],
   "source": [
    "sales_df.show(5)\n",
    "sales_df.printSchema()\n",
    "region_sales.show()\n"
   ]
  }
 ],
 "metadata": {
  "application/vnd.databricks.v1+notebook": {
   "computePreferences": null,
   "dashboards": [],
   "environmentMetadata": {
    "base_environment": "",
    "environment_version": "4"
   },
   "inputWidgetPreferences": null,
   "language": "python",
   "notebookMetadata": {
    "pythonIndentUnit": 4
   },
   "notebookName": "PySpark and snowpark Transformations in Databricks for Snowflake",
   "widgets": {}
  },
  "language_info": {
   "name": "python"
  }
 },
 "nbformat": 4,
 "nbformat_minor": 0
}
