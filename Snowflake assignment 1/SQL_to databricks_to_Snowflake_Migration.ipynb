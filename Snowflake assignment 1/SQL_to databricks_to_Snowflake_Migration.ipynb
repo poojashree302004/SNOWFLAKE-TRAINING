{
 "cells": [
  {
   "cell_type": "code",
   "execution_count": 0,
   "metadata": {
    "application/vnd.databricks.v1+cell": {
     "cellMetadata": {
      "byteLimit": 2048000,
      "rowLimit": 10000
     },
     "inputWidgets": {},
     "nuid": "79c76952-cdf8-4054-945c-2ebf704350a1",
     "showTitle": false,
     "tableResultSettingsMap": {},
     "title": ""
    }
   },
   "outputs": [
    {
     "output_type": "display_data",
     "data": {
      "text/html": [
       "<style scoped>\n",
       "  .table-result-container {\n",
       "    max-height: 300px;\n",
       "    overflow: auto;\n",
       "  }\n",
       "  table, th, td {\n",
       "    border: 1px solid black;\n",
       "    border-collapse: collapse;\n",
       "  }\n",
       "  th, td {\n",
       "    padding: 5px;\n",
       "  }\n",
       "  th {\n",
       "    text-align: left;\n",
       "  }\n",
       "</style><div class='table-result-container'><table class='table-result'><thead style='background-color: white'><tr><th>id</th><th>customer</th><th>region</th><th>amount</th></tr></thead><tbody><tr><td>1</td><td>Amit Kumar</td><td>North</td><td>12000</td></tr><tr><td>2</td><td>Priya Sharma</td><td>South</td><td>18000</td></tr><tr><td>3</td><td>Rahul Mehta</td><td>East</td><td>15000</td></tr><tr><td>4</td><td>Sneha Rao</td><td>West</td><td>22000</td></tr><tr><td>5</td><td>Ravi Patel</td><td>Central</td><td>17000</td></tr></tbody></table></div>"
      ]
     },
     "metadata": {
      "application/vnd.databricks.v1+output": {
       "addedWidgets": {},
       "aggData": [],
       "aggError": "",
       "aggOverflow": false,
       "aggSchema": [],
       "aggSeriesLimitReached": false,
       "aggType": "",
       "arguments": {},
       "columnCustomDisplayInfos": {},
       "data": [
        [
         1,
         "Amit Kumar",
         "North",
         12000
        ],
        [
         2,
         "Priya Sharma",
         "South",
         18000
        ],
        [
         3,
         "Rahul Mehta",
         "East",
         15000
        ],
        [
         4,
         "Sneha Rao",
         "West",
         22000
        ],
        [
         5,
         "Ravi Patel",
         "Central",
         17000
        ]
       ],
       "datasetInfos": [],
       "dbfsResultPath": null,
       "isJsonSchema": true,
       "metadata": {},
       "overflow": false,
       "plotOptions": {
        "customPlotOptions": {},
        "displayType": "table",
        "pivotAggregation": null,
        "pivotColumns": null,
        "xColumns": null,
        "yColumns": null
       },
       "removedWidgets": [],
       "schema": [
        {
         "metadata": "{\"isTimestampNTZ\":false,\"signed\":true,\"scale\":0}",
         "name": "id",
         "type": "\"integer\""
        },
        {
         "metadata": "{\"isTimestampNTZ\":false,\"__CHAR_VARCHAR_TYPE_STRING\":\"varchar(30)\",\"signed\":false,\"scale\":0}",
         "name": "customer",
         "type": "\"string\""
        },
        {
         "metadata": "{\"isTimestampNTZ\":false,\"__CHAR_VARCHAR_TYPE_STRING\":\"varchar(30)\",\"signed\":false,\"scale\":0}",
         "name": "region",
         "type": "\"string\""
        },
        {
         "metadata": "{\"isTimestampNTZ\":false,\"signed\":true,\"scale\":0}",
         "name": "amount",
         "type": "\"integer\""
        }
       ],
       "type": "table"
      }
     },
     "output_type": "display_data"
    },
    {
     "output_type": "stream",
     "name": "stdout",
     "output_type": "stream",
     "text": [
      "+---+------------+-------+------+----------+\n| id|    customer| region|amount| Load_Date|\n+---+------------+-------+------+----------+\n|  1|  Amit Kumar|  North| 12000|2025-10-15|\n|  2|Priya Sharma|  South| 18000|2025-10-15|\n|  3| Rahul Mehta|   East| 15000|2025-10-15|\n|  4|   Sneha Rao|   West| 22000|2025-10-15|\n|  5|  Ravi Patel|Central| 17000|2025-10-15|\n+---+------------+-------+------+----------+\n\nData written to Snowflake\n"
     ]
    }
   ],
   "source": [
    "jdbc_url = (\n",
    "    \"jdbc:sqlserver://poojasql.database.windows.net:1433;\"\n",
    "    \"databaseName=poojasql;\"\n",
    "    \"encrypt=true;\"\n",
    "    \"trustServerCertificate=false;\"\n",
    "    \"hostNameInCertificate=*.database.windows.net;\"\n",
    "    \"loginTimeout=30;\"\n",
    ")\n",
    "\n",
    "connection_properties = {\n",
    "    \"user\": \"sa-user@poojasql\",\n",
    "    \"password\": \"Poojashree@307\",\n",
    "    \"driver\": \"com.microsoft.sqlserver.jdbc.SQLServerDriver\"\n",
    "}\n",
    "\n",
    "customer_df = spark.read.jdbc(\n",
    "    url=jdbc_url,\n",
    "    table=\"dbo.CUSTOMER\",\n",
    "    properties=connection_properties\n",
    ")\n",
    "\n",
    "display(customer_df)\n",
    "from pyspark.sql.functions import lit, current_date\n",
    " \n",
    "transformed_df = customer_df.withColumn(\"Load_Date\", current_date())\n",
    "transformed_df.show(5)\n",
    "sfOptions = {\n",
    "  \"sfURL\": \"sqishot-fa68768.snowflakecomputing.com\",\n",
    "  \"sfDatabase\": \"MIGRATION_DB\",\n",
    "  \"sfSchema\": \"PUBLIC\",\n",
    "  \"sfWarehouse\": \"COMPUTE_WH\",\n",
    "  \"sfRole\": \"ACCOUNTADMIN\",\n",
    "  \"sfUser\": \"poojashree\",\n",
    "  \"sfPassword\": \"Poojashree@307\"\n",
    "}\n",
    "\n",
    "# Write transformed data into Snowflake\n",
    "transformed_df.write \\\n",
    "    .format(\"snowflake\") \\\n",
    "    .options(**sfOptions) \\\n",
    "    .option(\"dbtable\", \"customer\") \\\n",
    "    .mode(\"overwrite\") \\\n",
    "    .save()\n",
    "print(\"Data written to Snowflake\")\n"
   ]
  }
 ],
 "metadata": {
  "application/vnd.databricks.v1+notebook": {
   "computePreferences": null,
   "dashboards": [],
   "environmentMetadata": {
    "base_environment": "",
    "environment_version": "4"
   },
   "inputWidgetPreferences": null,
   "language": "python",
   "notebookMetadata": {
    "pythonIndentUnit": 4
   },
   "notebookName": "SQL_to databricks_to_Snowflake_Migration",
   "widgets": {}
  },
  "language_info": {
   "name": "python"
  }
 },
 "nbformat": 4,
 "nbformat_minor": 0
}